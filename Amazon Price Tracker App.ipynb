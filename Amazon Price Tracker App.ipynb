{
 "cells": [
  {
   "cell_type": "code",
   "execution_count": null,
   "metadata": {},
   "outputs": [],
   "source": [
    "import requests"
   ]
  },
  {
   "cell_type": "code",
   "execution_count": null,
   "metadata": {},
   "outputs": [],
   "source": [
    "from bs4 import BeautifulSoup\n",
    "import smtplib"
   ]
  },
  {
   "cell_type": "code",
   "execution_count": null,
   "metadata": {},
   "outputs": [],
   "source": [
    "URL = \"https://www.amazon.co.uk/Apple-Airpods-Wireless-Charging-latest/dp/B07PYM8FB8/ref=sr_1_6?keywords=airpods&qid=1581244893&sr=8-6\"\n",
    "HEADERS = {\"User-Agent\": \"Mozilla/5.0 (Macintosh; Intel Mac OS X 10_14_6) AppleWebKit/605.1.15 (KHTML, like Gecko) Version/13.0.4 Safari/605.1.15\"}\n",
    "PRICE_VALUE = 160\n",
    "EMAIL_ADDRESS = \"tripathishivam2000vns@gmail.com\""
   ]
  },
  {
   "cell_type": "code",
   "execution_count": null,
   "metadata": {},
   "outputs": [],
   "source": [
    "def trackPrices():\n",
    "    price = float(getPrice())\n",
    "    if price > PRICE_VALUE:\n",
    "        diff = int(price - PRICE_VALUE)\n",
    "        print(f\"Still £{diff} too expensive\")\n",
    "    else:\n",
    "        print(\"Cheaper! Notifying...\")\n",
    "        sendEmail()\n",
    "    pass"
   ]
  },
  {
   "cell_type": "code",
   "execution_count": null,
   "metadata": {},
   "outputs": [],
   "source": [
    "def getPrice():\n",
    "    page = requests.get(URL, headers=HEADERS)\n",
    "    soup = BeautifulSoup(page.content, 'lxml')\n",
    "    title = soup.find(id='productTitle').get_text().strip()\n",
    "    price = soup.find(id='priceblock_ourprice').get_text().strip()[1:4]\n",
    "    print(title)\n",
    "    print(price)\n",
    "    return price"
   ]
  },
  {
   "cell_type": "code",
   "execution_count": null,
   "metadata": {},
   "outputs": [],
   "source": [
    "def sendEmail():\n",
    "    subject = \"Amazon Price Dropped!\"\n",
    "    mailtext='Subject:'+subject+'\\n\\n'+URL\n",
    "\n",
    "    server = smtplib.SMTP(host='smtp.gmail.com', port=587)\n",
    "    server.ehlo()\n",
    "    server.starttls()\n",
    "    server.login(EMAIL_ADDRESS, 'fakepassword')\n",
    "    server.sendmail(EMAIL_ADDRESS, EMAIL_ADDRESS, mailtext)\n",
    "    pass"
   ]
  },
  {
   "cell_type": "code",
   "execution_count": null,
   "metadata": {},
   "outputs": [],
   "source": [
    "if __name__ == \"__main__\":\n",
    "    trackPrices()"
   ]
  },
  {
   "cell_type": "code",
   "execution_count": null,
   "metadata": {},
   "outputs": [],
   "source": []
  },
  {
   "cell_type": "code",
   "execution_count": null,
   "metadata": {},
   "outputs": [],
   "source": []
  }
 ],
 "metadata": {
  "kernelspec": {
   "display_name": "Python 3",
   "language": "python",
   "name": "python3"
  },
  "language_info": {
   "codemirror_mode": {
    "name": "ipython",
    "version": 3
   },
   "file_extension": ".py",
   "mimetype": "text/x-python",
   "name": "python",
   "nbconvert_exporter": "python",
   "pygments_lexer": "ipython3",
   "version": "3.8.3"
  }
 },
 "nbformat": 4,
 "nbformat_minor": 4
}
